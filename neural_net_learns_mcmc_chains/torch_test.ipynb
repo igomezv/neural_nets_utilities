{
 "cells": [
  {
   "cell_type": "code",
   "execution_count": 16,
   "id": "62f03fdc",
   "metadata": {},
   "outputs": [],
   "source": [
    "import torch\n",
    "from torch import nn\n",
    "from torch.utils.data import DataLoader\n",
    "from sklearn.datasets import load_boston\n",
    "from sklearn.preprocessing import StandardScaler\n",
    "from torchinfo import summary"
   ]
  },
  {
   "cell_type": "code",
   "execution_count": 13,
   "id": "87789432",
   "metadata": {},
   "outputs": [
    {
     "name": "stdout",
     "output_type": "stream",
     "text": [
      "Using cpu device\n"
     ]
    }
   ],
   "source": [
    "device = \"cuda\" if torch.cuda.is_available() else \"cpu\"\n",
    "print(f\"Using {device} device\")"
   ]
  },
  {
   "cell_type": "code",
   "execution_count": 3,
   "id": "5bf5999f",
   "metadata": {},
   "outputs": [],
   "source": [
    "class BostonDataset(torch.utils.data.Dataset):\n",
    "    '''\n",
    "    Prepare the Boston dataset for regression\n",
    "    '''\n",
    "    def __init__(self, X, y, scale_data=True):\n",
    "        if not torch.is_tensor(X) and not torch.is_tensor(y):\n",
    "            # Apply scaling if necessary\n",
    "            if scale_data:\n",
    "                X = StandardScaler().fit_transform(X)\n",
    "            self.X = torch.from_numpy(X)\n",
    "            self.y = torch.from_numpy(y)\n",
    "\n",
    "    def __len__(self):\n",
    "        return len(self.X)\n",
    "\n",
    "    def __getitem__(self, i):\n",
    "        return self.X[i], self.y[i]"
   ]
  },
  {
   "cell_type": "code",
   "execution_count": 4,
   "id": "7434cd8e",
   "metadata": {},
   "outputs": [],
   "source": [
    "class MLP(nn.Module):\n",
    "    '''\n",
    "    Multilayer Perceptron for regression.\n",
    "    '''\n",
    "    def __init__(self):\n",
    "        super().__init__()\n",
    "        self.layers = nn.Sequential(\n",
    "          nn.Linear(13, 64),\n",
    "          nn.ReLU(),\n",
    "          nn.Linear(64, 32),\n",
    "          nn.ReLU(),\n",
    "          nn.Linear(32, 1)\n",
    "        )\n",
    "\n",
    "\n",
    "    def forward(self, x):\n",
    "        '''\n",
    "          Forward pass\n",
    "        '''\n",
    "        return self.layers(x)"
   ]
  },
  {
   "cell_type": "code",
   "execution_count": 5,
   "id": "80de3a65",
   "metadata": {},
   "outputs": [
    {
     "name": "stderr",
     "output_type": "stream",
     "text": [
      "/home/isidro/.local/lib/python3.8/site-packages/sklearn/utils/deprecation.py:87: FutureWarning: Function load_boston is deprecated; `load_boston` is deprecated in 1.0 and will be removed in 1.2.\n",
      "\n",
      "    The Boston housing prices dataset has an ethical problem. You can refer to\n",
      "    the documentation of this function for further details.\n",
      "\n",
      "    The scikit-learn maintainers therefore strongly discourage the use of this\n",
      "    dataset unless the purpose of the code is to study and educate about\n",
      "    ethical issues in data science and machine learning.\n",
      "\n",
      "    In this special case, you can fetch the dataset from the original\n",
      "    source::\n",
      "\n",
      "        import pandas as pd\n",
      "        import numpy as np\n",
      "\n",
      "\n",
      "        data_url = \"http://lib.stat.cmu.edu/datasets/boston\"\n",
      "        raw_df = pd.read_csv(data_url, sep=\"\\s+\", skiprows=22, header=None)\n",
      "        data = np.hstack([raw_df.values[::2, :], raw_df.values[1::2, :2]])\n",
      "        target = raw_df.values[1::2, 2]\n",
      "\n",
      "    Alternative datasets include the California housing dataset (i.e.\n",
      "    :func:`~sklearn.datasets.fetch_california_housing`) and the Ames housing\n",
      "    dataset. You can load the datasets as follows::\n",
      "\n",
      "        from sklearn.datasets import fetch_california_housing\n",
      "        housing = fetch_california_housing()\n",
      "\n",
      "    for the California housing dataset and::\n",
      "\n",
      "        from sklearn.datasets import fetch_openml\n",
      "        housing = fetch_openml(name=\"house_prices\", as_frame=True)\n",
      "\n",
      "    for the Ames housing dataset.\n",
      "    \n",
      "  warnings.warn(msg, category=FutureWarning)\n"
     ]
    }
   ],
   "source": [
    "if __name__ == '__main__':\n",
    "    # Set fixed random number seed\n",
    "    torch.manual_seed(42)\n",
    "  \n",
    "    # Load Boston dataset\n",
    "    X, y = load_boston(return_X_y=True)"
   ]
  },
  {
   "cell_type": "code",
   "execution_count": 26,
   "id": "42fcb3d0",
   "metadata": {},
   "outputs": [
    {
     "data": {
      "text/plain": [
       "(506, numpy.ndarray, (506, 13))"
      ]
     },
     "execution_count": 26,
     "metadata": {},
     "output_type": "execute_result"
    }
   ],
   "source": [
    "len(X), type(X), np.shape(X)"
   ]
  },
  {
   "cell_type": "code",
   "execution_count": 6,
   "id": "72c37bc2",
   "metadata": {},
   "outputs": [],
   "source": [
    "# Prepare Boston dataset\n",
    "dataset = BostonDataset(X, y)\n",
    "trainloader = torch.utils.data.DataLoader(dataset, batch_size=10, shuffle=True, num_workers=1)"
   ]
  },
  {
   "cell_type": "code",
   "execution_count": 25,
   "id": "712b68df",
   "metadata": {},
   "outputs": [
    {
     "data": {
      "text/plain": [
       "tensor([[-0.4198,  0.2848, -1.2879,  ..., -1.4590,  0.4411, -1.0756],\n",
       "        [-0.4173, -0.4877, -0.5934,  ..., -0.3031,  0.4411, -0.4924],\n",
       "        [-0.4173, -0.4877, -0.5934,  ..., -0.3031,  0.3964, -1.2087],\n",
       "        ...,\n",
       "        [-0.4134, -0.4877,  0.1157,  ...,  1.1765,  0.4411, -0.9830],\n",
       "        [-0.4078, -0.4877,  0.1157,  ...,  1.1765,  0.4032, -0.8653],\n",
       "        [-0.4150, -0.4877,  0.1157,  ...,  1.1765,  0.4411, -0.6691]],\n",
       "       dtype=torch.float64)"
      ]
     },
     "execution_count": 25,
     "metadata": {},
     "output_type": "execute_result"
    }
   ],
   "source": [
    "dataset.X"
   ]
  },
  {
   "cell_type": "code",
   "execution_count": 36,
   "id": "4dd0ad64",
   "metadata": {},
   "outputs": [],
   "source": [
    "# Initialize the MLP\n",
    "mlp = MLP()\n",
    "mlp.float()\n",
    "# Define the loss function and optimizer\n",
    "loss_function = nn.L1Loss()\n",
    "optimizer = torch.optim.Adam(mlp.parameters(), lr=1e-4)"
   ]
  },
  {
   "cell_type": "code",
   "execution_count": 37,
   "id": "b217a7ee",
   "metadata": {},
   "outputs": [
    {
     "name": "stdout",
     "output_type": "stream",
     "text": [
      "Starting epoch 1\n",
      "Loss after mini-batch     1: 0.053\n",
      "Loss after mini-batch    11: 0.478\n",
      "Loss after mini-batch    21: 0.407\n",
      "Loss after mini-batch    31: 0.432\n",
      "Loss after mini-batch    41: 0.465\n",
      "Loss after mini-batch    51: 0.478\n",
      "Starting epoch 2\n",
      "Loss after mini-batch     1: 0.033\n",
      "Loss after mini-batch    11: 0.442\n",
      "Loss after mini-batch    21: 0.443\n",
      "Loss after mini-batch    31: 0.461\n",
      "Loss after mini-batch    41: 0.448\n",
      "Loss after mini-batch    51: 0.473\n",
      "Starting epoch 3\n",
      "Loss after mini-batch     1: 0.041\n",
      "Loss after mini-batch    11: 0.451\n",
      "Loss after mini-batch    21: 0.446\n",
      "Loss after mini-batch    31: 0.430\n",
      "Loss after mini-batch    41: 0.460\n",
      "Loss after mini-batch    51: 0.451\n",
      "Starting epoch 4\n",
      "Loss after mini-batch     1: 0.037\n",
      "Loss after mini-batch    11: 0.419\n",
      "Loss after mini-batch    21: 0.455\n",
      "Loss after mini-batch    31: 0.462\n",
      "Loss after mini-batch    41: 0.446\n",
      "Loss after mini-batch    51: 0.444\n",
      "Starting epoch 5\n",
      "Loss after mini-batch     1: 0.032\n",
      "Loss after mini-batch    11: 0.482\n",
      "Loss after mini-batch    21: 0.421\n",
      "Loss after mini-batch    31: 0.434\n",
      "Loss after mini-batch    41: 0.416\n",
      "Loss after mini-batch    51: 0.464\n",
      "Training process has finished.\n"
     ]
    }
   ],
   "source": [
    "# Run the training loop\n",
    "for epoch in range(0, 5): # 5 epochs at maximum  \n",
    "    # Print epoch\n",
    "    print(f'Starting epoch {epoch+1}')\n",
    "\n",
    "    # Set current loss value\n",
    "    current_loss = 0.0\n",
    "\n",
    "    # Iterate over the DataLoader for training data\n",
    "    for i, data in enumerate(trainloader, 0):\n",
    "\n",
    "          # Get and prepare inputs\n",
    "        inputs, targets = data\n",
    "        inputs, targets = inputs.float(), targets.float()\n",
    "        targets = targets.reshape((targets.shape[0], 1))\n",
    "\n",
    "        # Zero the gradients\n",
    "        optimizer.zero_grad()\n",
    "\n",
    "        # Perform forward pass\n",
    "        outputs = mlp(inputs)\n",
    "\n",
    "        # Compute loss\n",
    "        loss = loss_function(outputs, targets)\n",
    "\n",
    "        # Perform backward pass\n",
    "        loss.backward()\n",
    "\n",
    "        # Perform optimization\n",
    "        optimizer.step()\n",
    "\n",
    "        # Print statistics\n",
    "        current_loss += loss.item()\n",
    "        if i % 10 == 0:\n",
    "            print('Loss after mini-batch %5d: %.3f' %\n",
    "                (i + 1, current_loss / 500))\n",
    "            current_loss = 0.0\n",
    "\n",
    "# Process is complete.\n",
    "print('Training process has finished.')"
   ]
  },
  {
   "cell_type": "code",
   "execution_count": 38,
   "id": "8d51fccf",
   "metadata": {},
   "outputs": [
    {
     "data": {
      "text/plain": [
       "=================================================================\n",
       "Layer (type:depth-idx)                   Param #\n",
       "=================================================================\n",
       "MLP                                      --\n",
       "├─Sequential: 1-1                        --\n",
       "│    └─Linear: 2-1                       896\n",
       "│    └─ReLU: 2-2                         --\n",
       "│    └─Linear: 2-3                       2,080\n",
       "│    └─ReLU: 2-4                         --\n",
       "│    └─Linear: 2-5                       33\n",
       "=================================================================\n",
       "Total params: 3,009\n",
       "Trainable params: 3,009\n",
       "Non-trainable params: 0\n",
       "================================================================="
      ]
     },
     "execution_count": 38,
     "metadata": {},
     "output_type": "execute_result"
    }
   ],
   "source": [
    "summary(mlp, batch_size=-1)"
   ]
  },
  {
   "cell_type": "code",
   "execution_count": 47,
   "id": "9b658bfd",
   "metadata": {},
   "outputs": [
    {
     "data": {
      "text/plain": [
       "MLP(\n",
       "  (layers): Sequential(\n",
       "    (0): Linear(in_features=13, out_features=64, bias=True)\n",
       "    (1): ReLU()\n",
       "    (2): Linear(in_features=64, out_features=32, bias=True)\n",
       "    (3): ReLU()\n",
       "    (4): Linear(in_features=32, out_features=1, bias=True)\n",
       "  )\n",
       ")"
      ]
     },
     "execution_count": 47,
     "metadata": {},
     "output_type": "execute_result"
    }
   ],
   "source": [
    "mlp.eval()"
   ]
  },
  {
   "cell_type": "code",
   "execution_count": 53,
   "id": "98e8408d",
   "metadata": {},
   "outputs": [],
   "source": [
    "# test = np.random.randn(13)\n",
    "# torch usa tensores de torch y no numpy.darrays\n",
    "dtype = torch.float\n",
    "test = torch.randn((1, 13), device=device, dtype=dtype, )"
   ]
  },
  {
   "cell_type": "code",
   "execution_count": 54,
   "id": "acaabd1d",
   "metadata": {},
   "outputs": [
    {
     "data": {
      "text/plain": [
       "tensor([[0.7430]], grad_fn=<AddmmBackward0>)"
      ]
     },
     "execution_count": 54,
     "metadata": {},
     "output_type": "execute_result"
    }
   ],
   "source": [
    "mlp.forward(test)"
   ]
  },
  {
   "cell_type": "code",
   "execution_count": null,
   "id": "3b8fc927",
   "metadata": {},
   "outputs": [],
   "source": []
  }
 ],
 "metadata": {
  "kernelspec": {
   "display_name": "Python 3 (ipykernel)",
   "language": "python",
   "name": "python3"
  },
  "language_info": {
   "codemirror_mode": {
    "name": "ipython",
    "version": 3
   },
   "file_extension": ".py",
   "mimetype": "text/x-python",
   "name": "python",
   "nbconvert_exporter": "python",
   "pygments_lexer": "ipython3",
   "version": "3.8.2"
  }
 },
 "nbformat": 4,
 "nbformat_minor": 5
}
