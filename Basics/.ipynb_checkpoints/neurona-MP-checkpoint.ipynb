{
 "cells": [
  {
   "cell_type": "markdown",
   "metadata": {},
   "source": [
    "# Modelo lógico para una neurona de McCulloch-Pitts \n",
    "\n",
    "Referencias:\n",
    "- McCulloch, W. S., & Pitts, W. (1943). A logical calculus of the ideas immanent in nervous activity. The bulletin of mathematical biophysics, 5(4), 115-133. \n",
    "\n",
    "- https://jontysinai.github.io/jekyll/update/2017/09/24/the-mcp-neuron.html\n",
    "\n",
    "Compuertas lógicas: \n",
    "\n",
    "![](https://instrumentationtools.com/wp-content/uploads/2017/07/instrumentationtools.com_digital-logic-gates-truthtables.png)"
   ]
  },
  {
   "cell_type": "code",
   "execution_count": 1,
   "metadata": {},
   "outputs": [],
   "source": [
    "import numpy as np\n",
    "import pandas as pd"
   ]
  },
  {
   "cell_type": "code",
   "execution_count": 46,
   "metadata": {},
   "outputs": [],
   "source": [
    "def fn_activacion(mensaje, pesos, umbral):    \n",
    "    x = mensaje\n",
    "    sum_ = np.inner(pesos, x)\n",
    "\n",
    "    if sum_ >= umbral:\n",
    "        return 1\n",
    "    else:\n",
    "        return 0\n",
    "\n",
    "def neurona(senal_entrada, etiquetas_entrada, \n",
    "            etiqueta_salida, pesos = [1,1], umbral = 1):\n",
    "    pesos = np.array(pesos)\n",
    "    umbral = umbral\n",
    "        \n",
    "    tabla_logica = pd.DataFrame(senal_entrada, columns = etiquetas_entrada)\n",
    "    senal_salida = []\n",
    "    \n",
    "    for senal in senal_entrada:\n",
    "        signal = fn_activacion(senal, pesos, umbral)\n",
    "        senal_salida.append(signal)\n",
    "            \n",
    "    tabla_logica[etiqueta_salida] = pd.Series(senal_salida)\n",
    "    \n",
    "    return tabla_logica"
   ]
  },
  {
   "cell_type": "code",
   "execution_count": 48,
   "metadata": {},
   "outputs": [
    {
     "name": "stdout",
     "output_type": "stream",
     "text": [
      "   x1  x2  y\n",
      "0   0   0  0\n",
      "1   0   1  1\n",
      "2   1   0  1\n",
      "3   1   1  1\n"
     ]
    }
   ],
   "source": [
    "entradas = np.array([[0,0], [0,1], [1,0], [1,1]])\n",
    "etiquetas_in = ['x1', 'x2']\n",
    "etiquetas_out = 'y'\n",
    "\n",
    "OR = neurona(entradas, etiquetas_in, etiquetas_out, pesos = [1,1], umbral = 1)\n",
    "\n",
    "print(OR)"
   ]
  },
  {
   "cell_type": "code",
   "execution_count": 49,
   "metadata": {},
   "outputs": [
    {
     "name": "stdout",
     "output_type": "stream",
     "text": [
      "   x1  x2  y\n",
      "0   0   0  0\n",
      "1   0   1  0\n",
      "2   1   0  0\n",
      "3   1   1  1\n"
     ]
    }
   ],
   "source": [
    "entradas = np.array([[0,0], [0,1], [1,0], [1,1]])\n",
    "etiquetas_in = ['x1', 'x2']\n",
    "etiquetas_out = 'y'\n",
    "\n",
    "AND = neurona(entradas, etiquetas_in, etiquetas_out, pesos = [1,1], umbral = 2)\n",
    "\n",
    "print(AND)"
   ]
  },
  {
   "cell_type": "code",
   "execution_count": 52,
   "metadata": {},
   "outputs": [
    {
     "name": "stdout",
     "output_type": "stream",
     "text": [
      "   x1  y\n",
      "0   0  1\n",
      "1   1  0\n"
     ]
    }
   ],
   "source": [
    "NOT_signals = np.array([[0], [1]])\n",
    "\n",
    "# instantiate NOT gate as an MCP Neuron class\n",
    "NOT = neurona(NOT_signals, etiquetas_entrada=['x1'], etiqueta_salida='y', pesos = [-1], umbral = 0)\n",
    "\n",
    "\n",
    "print(NOT)"
   ]
  },
  {
   "cell_type": "code",
   "execution_count": 63,
   "metadata": {},
   "outputs": [
    {
     "name": "stdout",
     "output_type": "stream",
     "text": [
      "   x1  x2  y\n",
      "0   0   0  1\n",
      "1   0   1  1\n",
      "2   1   0  1\n",
      "3   1   1  0\n"
     ]
    }
   ],
   "source": [
    "entradas = np.array([[0,0], [0,1], [1,0], [1,1]])\n",
    "etiquetas_in = ['x1', 'x2']\n",
    "etiquetas_out = 'y'\n",
    "\n",
    "NAND = neurona(entradas, etiquetas_in, etiquetas_out, pesos = [-1,-1], umbral = -1)\n",
    "\n",
    "print(NAND)"
   ]
  },
  {
   "cell_type": "code",
   "execution_count": 64,
   "metadata": {},
   "outputs": [
    {
     "name": "stdout",
     "output_type": "stream",
     "text": [
      "   x1  x2  y\n",
      "0   0   0  1\n",
      "1   0   1  0\n",
      "2   1   0  0\n",
      "3   1   1  0\n"
     ]
    }
   ],
   "source": [
    "entradas = np.array([[0,0], [0,1], [1,0], [1,1]])\n",
    "etiquetas_in = ['x1', 'x2']\n",
    "etiquetas_out = 'y'\n",
    "\n",
    "NOR = neurona(entradas, etiquetas_in, etiquetas_out, pesos = [-1,-1], umbral = 0)\n",
    "\n",
    "print(NOR)"
   ]
  },
  {
   "cell_type": "code",
   "execution_count": 65,
   "metadata": {},
   "outputs": [
    {
     "name": "stdout",
     "output_type": "stream",
     "text": [
      "   x1  x2  y\n",
      "0   0   0  1\n",
      "1   0   1  0\n",
      "2   1   0  0\n",
      "3   1   1  0\n"
     ]
    }
   ],
   "source": [
    "entradas = np.array([[0,0], [0,1], [1,0], [1,1]])\n",
    "etiquetas_in = ['x1', 'x2']\n",
    "etiquetas_out = 'y'\n",
    "\n",
    "XNOR = neurona(entradas, etiquetas_in, etiquetas_out, pesos = [-1,-1], umbral = 0)\n",
    "\n",
    "print(XNOR)"
   ]
  },
  {
   "cell_type": "code",
   "execution_count": null,
   "metadata": {},
   "outputs": [],
   "source": []
  }
 ],
 "metadata": {
  "kernelspec": {
   "display_name": "Python 3",
   "language": "python",
   "name": "python3"
  },
  "language_info": {
   "codemirror_mode": {
    "name": "ipython",
    "version": 3
   },
   "file_extension": ".py",
   "mimetype": "text/x-python",
   "name": "python",
   "nbconvert_exporter": "python",
   "pygments_lexer": "ipython3",
   "version": "3.8.5"
  }
 },
 "nbformat": 4,
 "nbformat_minor": 4
}
